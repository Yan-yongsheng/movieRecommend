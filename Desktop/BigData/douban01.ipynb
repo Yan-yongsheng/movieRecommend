{
 "cells": [
  {
   "cell_type": "code",
   "execution_count": 3,
   "metadata": {
    "ExecuteTime": {
     "end_time": "2021-04-18T08:26:53.437275Z",
     "start_time": "2021-04-18T08:26:52.725878Z"
    }
   },
   "outputs": [
    {
     "name": "stdout",
     "output_type": "stream",
     "text": [
      "名侦探柯南：绯色的子弹\n",
      "小人物\n",
      "马卡卢索往事\n",
      "徐福\n",
      "人数之町\n",
      "刺杀小说家\n",
      "哥斯拉大战金刚\n",
      "新神榜：哪吒重生\n",
      "倒霉性爱，发狂黄片\n",
      "兴安岭猎人传说\n",
      "人潮汹涌\n",
      "扎克·施奈德版正义联盟\n",
      "侍神令\n",
      "浅田家！\n",
      "哆啦A梦：伴我同行2\n",
      "无依之地\n",
      "命运之夜——天之杯Ⅲ：春之歌\n",
      "哆啦A梦：大雄的新恐龙\n",
      "同学麦娜丝\n",
      "孤味\n",
      "芝加哥七君子审判\n",
      "亲爱的同志\n",
      "腿\n",
      "打开心世界\n",
      "信条\n",
      "沿路而下\n",
      "乐园之夜\n",
      "吉祥如意\n",
      "心灵奇旅\n",
      "送你一朵小红花\n",
      "许愿神龙\n",
      "缉魂\n",
      "酒精计划\n",
      "寻龙传说\n",
      "白虎\n",
      "不日成婚\n",
      "神枪手\n",
      "玫瑰岛的不可思议的历史\n",
      "浴血无名川\n",
      "你的眼睛在追问\n",
      "女人的碎片\n",
      "神奇女侠1984\n",
      "一秒钟\n",
      "鬼灭之刃 剧场版 无限列车篇\n",
      "疯狂原始人2\n",
      "有答案的男子\n",
      "爱与怪物\n",
      "发财日记\n",
      "夺冠\n",
      "紧急救援\n"
     ]
    }
   ],
   "source": [
    "from urllib.parse import urlencode\n",
    "from urllib.request import urlopen, Request\n",
    "import simplejson\n",
    "import ssl\n",
    "\n",
    "# 伪装成浏览器\n",
    "ua = 'Mozilla/5.0 (Macintosh; Intel Mac OS X 10_14_0) AppleWebKit/537.36 (KHTML, like Gecko) Chrome/71.0.3578.98 Safari/537.36'\n",
    "base_url = 'https://movie.douban.com/j/search_subjects'\n",
    "d = {\n",
    "    'type': 'movie',\n",
    "    'tag': '热门',\n",
    "    'page_limit': 50,\n",
    "    'page_start': 0\n",
    "}\n",
    "\n",
    "# ssl验证问题:忽略不信任的证书。就可以访问该网站\n",
    "context = ssl._create_unverified_context()\n",
    "\n",
    "# url编码后，传入Request()函数；headers参数伪装浏览器\n",
    "req = Request('{}?{}'.format(base_url, urlencode(d)), headers={'User-agent': ua})\n",
    "\n",
    "with urlopen(req, context=context) as res:\n",
    "    res = simplejson.loads(res.read())  # json转dict\n",
    "\n",
    "    for subject in res['subjects']:\n",
    "        print(subject['title'])  # 取出电影名字\n",
    "        with open('douban.txt', 'a') as f:\n",
    "            f.write(subject['title'] + '\\n')"
   ]
  },
  {
   "cell_type": "code",
   "execution_count": null,
   "metadata": {},
   "outputs": [],
   "source": []
  }
 ],
 "metadata": {
  "kernelspec": {
   "display_name": "Python 3",
   "language": "python",
   "name": "python3"
  },
  "language_info": {
   "codemirror_mode": {
    "name": "ipython",
    "version": 3
   },
   "file_extension": ".py",
   "mimetype": "text/x-python",
   "name": "python",
   "nbconvert_exporter": "python",
   "pygments_lexer": "ipython3",
   "version": "3.8.3"
  },
  "toc": {
   "base_numbering": 1,
   "nav_menu": {},
   "number_sections": true,
   "sideBar": true,
   "skip_h1_title": false,
   "title_cell": "Table of Contents",
   "title_sidebar": "Contents",
   "toc_cell": false,
   "toc_position": {},
   "toc_section_display": true,
   "toc_window_display": false
  },
  "varInspector": {
   "cols": {
    "lenName": 16,
    "lenType": 16,
    "lenVar": 40
   },
   "kernels_config": {
    "python": {
     "delete_cmd_postfix": "",
     "delete_cmd_prefix": "del ",
     "library": "var_list.py",
     "varRefreshCmd": "print(var_dic_list())"
    },
    "r": {
     "delete_cmd_postfix": ") ",
     "delete_cmd_prefix": "rm(",
     "library": "var_list.r",
     "varRefreshCmd": "cat(var_dic_list()) "
    }
   },
   "types_to_exclude": [
    "module",
    "function",
    "builtin_function_or_method",
    "instance",
    "_Feature"
   ],
   "window_display": false
  }
 },
 "nbformat": 4,
 "nbformat_minor": 4
}
